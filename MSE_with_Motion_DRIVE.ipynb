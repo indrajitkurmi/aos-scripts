{
  "nbformat": 4,
  "nbformat_minor": 0,
  "metadata": {
    "colab": {
      "name": "MSE with Motion_DRIVE",
      "provenance": [],
      "collapsed_sections": [],
      "include_colab_link": true
    },
    "kernelspec": {
      "name": "python3",
      "display_name": "Python 3"
    },
    "language_info": {
      "name": "python"
    }
  },
  "cells": [
    {
      "cell_type": "markdown",
      "metadata": {
        "id": "view-in-github",
        "colab_type": "text"
      },
      "source": [
        "<a href=\"https://colab.research.google.com/github/indrajitkurmi/aos-scripts/blob/main/MSE_with_Motion_DRIVE.ipynb\" target=\"_parent\"><img src=\"https://colab.research.google.com/assets/colab-badge.svg\" alt=\"Open In Colab\"/></a>"
      ]
    },
    {
      "cell_type": "code",
      "metadata": {
        "id": "U50WLRkSBocg"
      },
      "source": [
        "import numpy as np\n",
        "import cv2\n",
        "import matplotlib.pyplot as plt\n",
        "\n",
        "\n",
        "# utility function(s)\n",
        "def imshow(image, *args, **kwargs):\n",
        "    \"\"\"A replacement for cv2.imshow() for use in Jupyter notebooks using matplotlib.\n",
        "\n",
        "        Args:\n",
        "          image : np.ndarray. shape (N, M) or (N, M, 1) is an NxM grayscale image. shape\n",
        "            (N, M, 3) is an NxM BGR color image. \n",
        "    \"\"\"\n",
        "    if len(image.shape) == 3:\n",
        "      # Height, width, channels\n",
        "      # Assume BGR, do a conversion  \n",
        "      image = cv2.cvtColor(image, cv2.COLOR_BGR2RGB)\n",
        "\n",
        "    # Draw the image\n",
        "    plt.imshow(image, *args, **kwargs)\n",
        "    # We'll also disable drawing the axes and tick marks in the plot, since it's actually an image\n",
        "    plt.axis('off')\n",
        "    # Make sure it outputs\n",
        "    # plt.show()"
      ],
      "execution_count": 109,
      "outputs": []
    },
    {
      "cell_type": "markdown",
      "metadata": {
        "id": "iPsbrmoJqK0m"
      },
      "source": [
        "A single binary view (area: $w \\times w$) is composed of zero background and of a target of size $a \\times a$. The mean and variance of such a 2D view are \n",
        "$$\n",
        "\\mu = \\frac{a^2}{w^2} \\\\\n",
        "\\sigma = \\mu(\\mu-1)^2 + (1-\\mu)(\\mu-0)^2 =  \\mu - \\mu^2\n",
        "$$\n",
        ", where the mean ($\\mu$) also describes the size relation of the target with respect to the view. The term $(\\mu-1)^2$ is the variance computation in the target and $(\\mu-0)^2 = \\mu^2$ the variance for the background.\n",
        "\n",
        "The code below shows such an example:"
      ]
    },
    {
      "cell_type": "code",
      "metadata": {
        "colab": {
          "base_uri": "https://localhost:8080/",
          "height": 264
        },
        "id": "lcMr1P_-B7bc",
        "outputId": "ab026d6c-a05f-4a6e-cf27-07be7099a5c2"
      },
      "source": [
        "w = 300\n",
        "a =  50\n",
        "sx,sy = int(w/3), int(w/3)\n",
        "\n",
        "single = np.zeros((300,300))\n",
        "single[sx:sx+a,sy:sy+a] = 1.0\n",
        "\n",
        "imshow(single)\n",
        "plt.title( 'mean: {}, var: {}'.format(np.mean(single), np.var(single)))\n",
        "plt.show()"
      ],
      "execution_count": null,
      "outputs": [
        {
          "output_type": "display_data",
          "data": {
            "image/png": "[encoded data removed]",
            "text/plain": [
              "<Figure size 432x288 with 1 Axes>"
            ]
          },
          "metadata": {
            "tags": [],
            "needs_background": "light"
          }
        }
      ]
    },
    {
      "cell_type": "markdown",
      "metadata": {
        "id": "SyWhnSbssdgr"
      },
      "source": [
        "If multiple such single views are averaged (as typically done in AOS) it has no effect on the variance and mean as long as the target is perfectly registered. \n",
        "\n",
        "If the target, however, is not registered (e.g., a moving target or by defocus) the statistics change. \n",
        "Let's first look at the extreme case, where the averaged targets are not overlapping anymore. This is showcased below by introducing a shift $d$ for $N$ images.\n",
        "The mean ($\\mu$) is not altered, but the variance changes:\n",
        "$$\n",
        "\\sigma = N\\mu(\\mu-\\frac{1}{N})^2 + (1-N\\mu)(\\mu-0)^2 =  \\frac{\\mu}{N} - \\mu^2 \\text{.}\n",
        "$$\n",
        "The change of $\\sigma$ is inverse proportional to $N$. Note that $N\\mu$ describes the area covered by the non-overlapping instances of the target. "
      ]
    },
    {
      "cell_type": "code",
      "metadata": {
        "colab": {
          "base_uri": "https://localhost:8080/",
          "height": 299
        },
        "id": "hlOm7fXbC9Oz",
        "outputId": "b809470f-b1c9-4ea5-ca70-a6b685cf59cb"
      },
      "source": [
        "w = 300\n",
        "a =  20\n",
        "r = a*a / w**2 # ratio/mean\n",
        "print(r)\n",
        "d = 25\n",
        "N = 10\n",
        "sx,sy = int(a), int(a)\n",
        "sum = np.zeros((w,w))\n",
        "\n",
        "for i in range(N):\n",
        "  single = np.zeros((w,w))\n",
        "  x,y = sx + i*d, sy\n",
        "  single[x:x+a,y:y+a] = 1.0\n",
        "  sum += single\n",
        "\n",
        "sum = sum/N\n",
        "\n",
        "imshow(sum, vmin=0.0, vmax=1.0)\n",
        "plt.title( 'mean: {}, var: {}'.format(np.mean(sum), np.var(sum)))\n",
        "plt.show()\n",
        "\n",
        "# variance computation\n",
        "v_overlap = r - r**2\n",
        "v_nonoverlap = r/N - r**2\n",
        "print('var (non-overlap): {}'.format( v_nonoverlap ) )\n"
      ],
      "execution_count": null,
      "outputs": [
        {
          "output_type": "stream",
          "text": [
            "0.0044444444444444444\n"
          ],
          "name": "stdout"
        },
        {
          "output_type": "display_data",
          "data": {
            "image/png": "[encoded data removed]",
            "text/plain": [
              "<Figure size 432x288 with 1 Axes>"
            ]
          },
          "metadata": {
            "tags": [],
            "needs_background": "light"
          }
        },
        {
          "output_type": "stream",
          "text": [
            "var (non-overlap): 0.00042469135802469137\n"
          ],
          "name": "stdout"
        }
      ]
    },
    {
      "cell_type": "markdown",
      "metadata": {
        "id": "icUep5Q1vkXl"
      },
      "source": [
        "If the shift $d$ is less then the target size $a$ $(d < a)$ the targets will overlap in the integral image. For simplicity we will just look at the problem in 1D now. \n",
        "The area (normalized by the area size) that is covered by the non-overlapping targets can be expressed by \n",
        "$$\n",
        "  g = \\frac{d(N-1)+a}{w}\n",
        "$$\n",
        "and the number of overlaps is expressed by \n",
        "$$\n",
        "  M = \\frac{a}{d}\n",
        "$$\n",
        ", where it has to be ensured that $M$ does not exceed $N$. \n",
        "Furthermore, there will be different regions with a varying amount of overlap. For example a target with $a=5$ a shift of $d=2$ and $N=7$ results in 4 regions without overlap in 8 regions where two target instances overlap and 5 regions with an overlap of three targets. Note that this is illustrated in the example below. Furthermore, in this simulation a region is a pixel or array cell. \n",
        "\n",
        "To compute the variance the different overlaps have to be considered. We introduce this as a count $c_i$, where $i$ is the number of overlapping targets. In the example this results in $c_1=4, c_2=8$, and $c_3=5$.\n",
        "The equation to compute the variance thus expands to\n",
        "$$\n",
        "  \\sigma = (1-g)\\mu^2 + \\frac{1}{w} \\sum_i c_i (\\mu - \\frac{i}{N})^2 \\\\\n",
        "   =  \\mu^2 - \\frac{2\\mu}{Nw} \\sum_i c_i i + \\frac{1}{N^2w} \\sum_i c_i i^2 \\text{.}\n",
        "$$\n",
        "By subsituting $\\mu = a/w$ (in 1D) it further simplifies to\n",
        "$$\n",
        "  \\sigma =  \\frac{a^2}{w^2} - \\frac{2a}{Nw^2} \\sum_i{ c_i i }+ \\frac{1}{N^2w} \\sum_i c_i i^2 \\text{.}\n",
        "$$\n",
        "\n",
        "Note that it is propably impractical to always compute $c_i$ so it might be possible to simplify or approximate these terms. A first attempt would be to approximate the terms by\n",
        "$$\n",
        " \\sum_i{ c_i i }   \\approx M (d (N-1-M)+a) \\\\\n",
        " \\sum_i{ c_i i^2 } \\approx M^2 (d (N-1-M)+a) \\text{.}\n",
        "$$\n",
        "This, however does not allways lead to close results (see below). \n",
        "\n"
      ]
    },
    {
      "cell_type": "code",
      "metadata": {
        "colab": {
          "base_uri": "https://localhost:8080/",
          "height": 145
        },
        "id": "Ig3YnjtzPRHZ",
        "outputId": "218c37ed-2704-4ec0-9f6f-70a5f1dd2424"
      },
      "source": [
        "w = 30\n",
        "a =  5\n",
        "r = a / w # ratio/mean\n",
        "print(r)\n",
        "d = 2\n",
        "N = 7\n",
        "sx,sy = int(a), int(a)\n",
        "sum = np.zeros((1,w))\n",
        "\n",
        "for i in range(N):\n",
        "  single = np.zeros_like(sum)\n",
        "  x,y = sx + i*d, sy\n",
        "  single[:,x:x+a] = 1.0\n",
        "  sum += single\n",
        "\n",
        "count,bins=np.histogram(sum, bins=np.arange(np.max(sum)+2))\n",
        "print(count) \n",
        "print(np.asarray(bins[:-1],dtype=np.int16))\n",
        "sum = sum/N\n",
        "\n",
        "imshow(sum, vmin=0.0, vmax=1.0)\n",
        "plt.title( 'mean: {}, var: {}'.format(np.mean(sum), np.var(sum)))\n",
        "plt.show()\n",
        "\n",
        "# variance computation\n",
        "if d<=0:\n",
        "  M = N\n",
        "else:\n",
        "  M = max(min(a/d,N),1)\n",
        "\n",
        "v_overlap = r - r**2        # assuming everything is overlapping\n",
        "v_nonoverlap = r/N - r**2   # assuming nothing is overlapping in the integral\n",
        "\n",
        "term1 = np.sum(bins[:-1] * count)\n",
        "term2 = np.sum(bins[:-1]**2 * count)\n",
        "v = a**2/w**2 - 2*a/(N*w**2)*term1 + 1/(N**2*w)*term2\n",
        "print('var (new): {}'.format( v ) )\n",
        "\n",
        "# approximate term1 and term2\n",
        "term1_ = M * (d*(N-1-M)+a)\n",
        "term2_ = term1_ * M\n",
        "v_ = a**2/w**2 - 2*a/(N*w**2)*term1_ + 1/(N**2*w)*term2_\n",
        "print('var (approx): {}'.format( v_ ) )\n",
        "\n"
      ],
      "execution_count": null,
      "outputs": [
        {
          "output_type": "stream",
          "text": [
            "0.16666666666666666\n",
            "[13  4  8  5]\n",
            "[0 1 2 3]\n"
          ],
          "name": "stdout"
        },
        {
          "output_type": "display_data",
          "data": {
            "image/png": "[encoded data removed]",
            "text/plain": [
              "<Figure size 432x288 with 1 Axes>"
            ]
          },
          "metadata": {
            "tags": [],
            "needs_background": "light"
          }
        },
        {
          "output_type": "stream",
          "text": [
            "var (new): 0.02732426303854875\n",
            "var (approx): 0.03117913832199546\n"
          ],
          "name": "stdout"
        }
      ]
    },
    {
      "cell_type": "markdown",
      "metadata": {
        "id": "ojGWvGUyAHGE"
      },
      "source": [
        "In this section, we discuss the statistical model of the\n",
        "$MSE$ between an integral image $X$ and an hypothetical\n",
        "occlusion-free reference $S$ . \n",
        "$$\n",
        "MSE = E[(X- S)^2] = E[X^2] -2E[XS] +E[S^2]\n",
        "$$\n",
        "Currently assuming ground also as an occluder with same mean and variance the occluders the integral image X can be defined as :-\n",
        "$$\n",
        "X = \\frac{1}{N}\\bigg[\\sum_{i=1}^{A} Z_iO_i + (1- Z_i)S + \\sum_{i = A+1}^{N} O_i \\bigg]\n",
        "$$\n",
        "Thus\n",
        "$$\n",
        "MSE = \\bigg[\\bigg(1 - \\frac{A(1-D)}{N}\\bigg)^2 + \\frac{AD(1-D)}{N^2}\\bigg] \\bigg(\\sigma_s^2 + (\\mu_o - \\mu_s)^2\\bigg) +  \\frac{AD + N - A}{N^2} \\sigma_o^2\n",
        "$$"
      ]
    },
    {
      "cell_type": "markdown",
      "metadata": {
        "id": "Q2tcpUKFfVrU"
      },
      "source": [
        "Below is theorithical MSE calulation provided ( signal mean, siganl variance, occluder mean, occluder variance, occluder density, no of integrated images, numof overlapping images)\n",
        "\n",
        "--- Current Equation works when number of overlapping images images are integers ( i.e image size is multiple of shift)"
      ]
    },
    {
      "cell_type": "code",
      "metadata": {
        "id": "JfJT8WEjDRBL"
      },
      "source": [
        "def theoritcal_MSE(signalmean,signalvar,occlmean,occlvar,occldens,noofintegratedimage,numofover):\n",
        "  MSE = ((1-(numofover*(1-occldens)/noofintegratedimage))**2 + (numofover*occldens*(1-occldens)/(noofintegratedimage**2)))*(signalvar+(occlmean-signalmean)**2) + (((numofover*occldens+noofintegratedimage-numofover)/(noofintegratedimage**2))*occlvar)\n",
        "  return MSE"
      ],
      "execution_count": 110,
      "outputs": []
    },
    {
      "cell_type": "markdown",
      "metadata": {
        "id": "ginGvIP1gJNs"
      },
      "source": [
        "Below we measure mse when no occlusion is present in 1D Case"
      ]
    },
    {
      "cell_type": "code",
      "metadata": {
        "id": "nLUyUy_LFFkO",
        "colab": {
          "base_uri": "https://localhost:8080/",
          "height": 364
        },
        "outputId": "2ebf9f52-428e-45f2-bc3b-585261c92d63"
      },
      "source": [
        "w = 100\n",
        "a =  15\n",
        "r = a / w # ratio/mean\n",
        "print(r)\n",
        "d = 5\n",
        "N = 10\n",
        "signalmean = 0.5\n",
        "sx,sy = int(a), int(a)\n",
        "sum = np.zeros((1,w))\n",
        "singleimagearray =[]\n",
        "for i in range(N):\n",
        "  single = np.zeros_like(sum)\n",
        "  x,y = sx + i*d, sy\n",
        "  single[:,x:x+a] = signalmean\n",
        "  imshow(single, vmin=0.0, vmax=1.0)\n",
        "  plt.show()\n",
        "  singleimagearray.append(single)\n",
        "  sum += single\n",
        "sum = sum/N\n",
        "imshow(sum, vmin=0.0, vmax=1.0)\n",
        "plt.title( 'mean: {}, var: {}'.format(np.mean(sum), np.var(sum)))\n",
        "plt.show()\n",
        "#####Calculate Mean square error#############\n",
        "noofpix = d\n",
        "x,y = sx + 0*d, sy\n",
        "endx,endy = sx + (N-2)*d, sy\n",
        "imshow(sum[:,x+a-noofpix:endx+a-noofpix], vmin=0.0, vmax=1.0)\n",
        "plt.title( 'Integrated Signal mean: {}, var: {}'.format(np.mean(sum[:,x+a-noofpix:endx+a-noofpix]), np.var(sum[:,x+a-noofpix:endx+a-noofpix])))\n",
        "plt.show() \n",
        "nopa = sum[:,x+a-noofpix:endx+a-noofpix]\n",
        "nop = len(nopa)\n",
        "sourcesingle = np.zeros((1,w))\n",
        "sourcesingle[:,x+a-noofpix:endx+a-noofpix] = signalmean\n",
        "imshow(sourcesingle[:,x+a-noofpix:endx+a-noofpix], vmin=0.0, vmax=1.0)\n",
        "plt.title( 'Source Signal mean: {}, var: {}'.format(np.mean(sourcesingle[:,x+a-noofpix:endx+a-noofpix]), np.var(sourcesingle[:,x+a-noofpix:endx+a-noofpix])))\n",
        "plt.show() \n",
        "calcmse = np.mean((sum[:,x+a-noofpix:endx+a-noofpix] - sourcesingle[:,x+a-noofpix:endx+a-noofpix])**2)\n",
        "print(\"calculated mse\",calcmse)\n",
        "theoriticalmse = theoritcal_MSE(0.5,0,0,0,0,N,int(a/d))\n",
        "print(\"theoritical mse\",theoriticalmse)"
      ],
      "execution_count": null,
      "outputs": [
        {
          "output_type": "stream",
          "text": [
            "0.15\n"
          ],
          "name": "stdout"
        },
        {
          "output_type": "display_data",
          "data": {
            "image/png": "[encoded data removed]",
            "text/plain": [
              "<Figure size 432x288 with 1 Axes>"
            ]
          },
          "metadata": {
            "tags": [],
            "needs_background": "light"
          }
        },
        {
          "output_type": "display_data",
          "data": {
            "image/png": "[encoded data removed]",
            "text/plain": [
              "<Figure size 432x288 with 1 Axes>"
            ]
          },
          "metadata": {
            "tags": [],
            "needs_background": "light"
          }
        },
        {
          "output_type": "display_data",
          "data": {
            "image/png": "[encoded data removed]",
            "text/plain": [
              "<Figure size 432x288 with 1 Axes>"
            ]
          },
          "metadata": {
            "tags": [],
            "needs_background": "light"
          }
        },
        {
          "output_type": "display_data",
          "data": {
            "image/png": "[encoded data removed]",
            "text/plain": [
              "<Figure size 432x288 with 1 Axes>"
            ]
          },
          "metadata": {
            "tags": [],
            "needs_background": "light"
          }
        },
        {
          "output_type": "display_data",
          "data": {
            "image/png": "[encoded data removed]",
            "text/plain": [
              "<Figure size 432x288 with 1 Axes>"
            ]
          },
          "metadata": {
            "tags": [],
            "needs_background": "light"
          }
        },
        {
          "output_type": "display_data",
          "data": {
            "image/png": "[encoded data removed]",
            "text/plain": [
              "<Figure size 432x288 with 1 Axes>"
            ]
          },
          "metadata": {
            "tags": [],
            "needs_background": "light"
          }
        },
        {
          "output_type": "display_data",
          "data": {
            "image/png": "[encoded data removed]",
            "text/plain": [
              "<Figure size 432x288 with 1 Axes>"
            ]
          },
          "metadata": {
            "tags": [],
            "needs_background": "light"
          }
        },
        {
          "output_type": "display_data",
          "data": {
            "image/png": "[encoded data removed]",
            "text/plain": [
              "<Figure size 432x288 with 1 Axes>"
            ]
          },
          "metadata": {
            "tags": [],
            "needs_background": "light"
          }
        },
        {
          "output_type": "display_data",
          "data": {
            "image/png": "[encoded data removed]",
            "text/plain": [
              "<Figure size 432x288 with 1 Axes>"
            ]
          },
          "metadata": {
            "tags": [],
            "needs_background": "light"
          }
        },
        {
          "output_type": "display_data",
          "data": {
            "image/png": "[encoded data removed]",
            "text/plain": [
              "<Figure size 432x288 with 1 Axes>"
            ]
          },
          "metadata": {
            "tags": [],
            "needs_background": "light"
          }
        },
        {
          "output_type": "display_data",
          "data": {
            "image/png": "[encoded data removed]",
            "text/plain": [
              "<Figure size 432x288 with 1 Axes>"
            ]
          },
          "metadata": {
            "tags": [],
            "needs_background": "light"
          }
        },
        {
          "output_type": "display_data",
          "data": {
            "image/png": "[encoded data removed]",
            "text/plain": [
              "<Figure size 432x288 with 1 Axes>"
            ]
          },
          "metadata": {
            "tags": [],
            "needs_background": "light"
          }
        },
        {
          "output_type": "display_data",
          "data": {
            "image/png": "[encoded data removed]",
            "text/plain": [
              "<Figure size 432x288 with 1 Axes>"
            ]
          },
          "metadata": {
            "tags": [],
            "needs_background": "light"
          }
        },
        {
          "output_type": "stream",
          "text": [
            "calculated mse 0.12249999999999998\n",
            "0.12249999999999998\n",
            "theoritical mse 0.12249999999999998\n"
          ],
          "name": "stdout"
        }
      ]
    },
    {
      "cell_type": "markdown",
      "metadata": {
        "id": "yQY5SqOYgWe6"
      },
      "source": [
        "Below we measure when occlusion are randomly present with Density D"
      ]
    },
    {
      "cell_type": "code",
      "metadata": {
        "colab": {
          "base_uri": "https://localhost:8080/",
          "height": 950
        },
        "id": "u9gLrEBAfR2x",
        "outputId": "f20dadb3-7560-434a-b752-df1db5f868db"
      },
      "source": [
        "w = 100\n",
        "a =  20\n",
        "r = a / w # ratio/mean\n",
        "print(r)\n",
        "d = 2\n",
        "o_size = 2\n",
        "o_shift = 2\n",
        "o_dens = 0.7\n",
        "N = 20\n",
        "\n",
        "sx,sy = int(a), int(a)\n",
        "sum = np.zeros((1,w))\n",
        "singleimagearray =[]\n",
        "occlimage = np.random.choice([0, 1], size=(1,50), p=[o_dens, 1-o_dens]) #np.random.binomial(n=1, p=1-o_dens, size=(1,50))\n",
        "print(np.mean(occlimage), np.count_nonzero(occlimage), np.count_nonzero(occlimage)/50)\n",
        "imshow(occlimage, vmin=0.0, vmax=1.0)\n",
        "plt.show()\n",
        "occlimage = occlimage.repeat(o_size, axis=1)\n",
        "meas_dens = 1 - np.count_nonzero(occlimage)/100\n",
        "print(np.mean(occlimage), np.count_nonzero(occlimage),np.count_nonzero(occlimage)/100)\n",
        "imshow(occlimage, vmin=0.0, vmax=1.0)\n",
        "plt.show()\n",
        "shiftedocclimage = np.roll(occlimage, 2)\n",
        "imshow(shiftedocclimage, vmin=0.0, vmax=1.0)\n",
        "plt.show()\n",
        "for i in range(N):\n",
        "  single = np.zeros_like(sum)\n",
        "  x,y = sx + i*d, sy\n",
        "  single[:,x:x+a] = 0.5\n",
        "  shiftedocclimage = np.roll(occlimage, i*o_shift)\n",
        "  imshow(shiftedocclimage, vmin=0.0, vmax=1.0)\n",
        "  plt.show()\n",
        "  single = single * shiftedocclimage\n",
        "  imshow(single, vmin=0.0, vmax=1.0)\n",
        "  plt.show()\n",
        "  singleimagearray.append(single)\n",
        "  sum += single\n",
        "sum = sum/N\n",
        "imshow(sum, vmin=0.0, vmax=1.0)\n",
        "plt.title( 'mean: {}, var: {}'.format(np.mean(sum), np.var(sum)))\n",
        "plt.show()\n",
        "#####Calculate Mean square error#############\n",
        "noofpix = d\n",
        "x,y = sx + 0*d, sy\n",
        "endx,endy = sx + (N-4)*d, sy\n",
        "imshow(sum[:,x+a-noofpix:endx+a-noofpix], vmin=0.0, vmax=1.0)\n",
        "plt.title( 'Integrated Signal mean: {}, var: {}'.format(np.mean(sum[:,x+a-noofpix:endx+a-noofpix]), np.var(sum[:,x+a-noofpix:endx+a-noofpix])))\n",
        "plt.show() \n",
        "nopa = sum[:,x+a-noofpix:endx+a-noofpix]\n",
        "nop = len(nopa)\n",
        "sourcesingle = np.zeros((1,w))\n",
        "sourcesingle[:,x+a-noofpix:endx+a-noofpix] = signalmean\n",
        "imshow(sourcesingle[:,x+a-noofpix:endx+a-noofpix], vmin=0.0, vmax=1.0)\n",
        "plt.title( 'Source Signal mean: {}, var: {}'.format(np.mean(sourcesingle[:,x+a-noofpix:endx+a-noofpix]), np.var(sourcesingle[:,x+a-noofpix:endx+a-noofpix])))\n",
        "plt.show() \n",
        "calcmse = np.mean((sum[:,x+a-noofpix:endx+a-noofpix] - sourcesingle[:,x+a-noofpix:endx+a-noofpix])**2)\n",
        "print(\"calculated mse\",calcmse)\n",
        "theoriticalmse = theoritcal_MSE(0.5,0,0,0,meas_dens,N,int(a/d))\n",
        "print(\"theoritical mse\",theoriticalmse)"
      ],
      "execution_count": null,
      "outputs": [
        {
          "output_type": "stream",
          "text": [
            "0.2\n",
            "0.34 17 0.34\n"
          ],
          "name": "stdout"
        },
        {
          "output_type": "display_data",
          "data": {
            "image/png": "[encoded data removed]",
            "text/plain": [
              "<Figure size 432x288 with 1 Axes>"
            ]
          },
          "metadata": {
            "tags": [],
            "needs_background": "light"
          }
        },
        {
          "output_type": "stream",
          "text": [
            "0.34 34 0.34\n"
          ],
          "name": "stdout"
        },
        {
          "output_type": "display_data",
          "data": {
            "image/png": "[encoded data removed]",
            "text/plain": [
              "<Figure size 432x288 with 1 Axes>"
            ]
          },
          "metadata": {
            "tags": [],
            "needs_background": "light"
          }
        },
        {
          "output_type": "display_data",
          "data": {
            "image/png": "[encoded data removed]",
            "text/plain": [
              "<Figure size 432x288 with 1 Axes>"
            ]
          },
          "metadata": {
            "tags": [],
            "needs_background": "light"
          }
        },
        {
          "output_type": "display_data",
          "data": {
            "image/png": "[encoded data removed]",
            "text/plain": [
              "<Figure size 432x288 with 1 Axes>"
            ]
          },
          "metadata": {
            "tags": [],
            "needs_background": "light"
          }
        },
        {
          "output_type": "display_data",
          "data": {
            "image/png": "[encoded data removed]",
            "text/plain": [
              "<Figure size 432x288 with 1 Axes>"
            ]
          },
          "metadata": {
            "tags": [],
            "needs_background": "light"
          }
        },
        {
          "output_type": "display_data",
          "data": {
            "image/png": "[encoded data removed]",
            "text/plain": [
              "<Figure size 432x288 with 1 Axes>"
            ]
          },
          "metadata": {
            "tags": [],
            "needs_background": "light"
          }
        },
        {
          "output_type": "display_data",
          "data": {
            "image/png": "[encoded data removed]",
            "text/plain": [
              "<Figure size 432x288 with 1 Axes>"
            ]
          },
          "metadata": {
            "tags": [],
            "needs_background": "light"
          }
        },
        {
          "output_type": "display_data",
          "data": {
            "image/png": "[encoded data removed]",
            "text/plain": [
              "<Figure size 432x288 with 1 Axes>"
            ]
          },
          "metadata": {
            "tags": [],
            "needs_background": "light"
          }
        },
        {
          "output_type": "display_data",
          "data": {
            "image/png": "[encoded data removed]",
            "text/plain": [
              "<Figure size 432x288 with 1 Axes>"
            ]
          },
          "metadata": {
            "tags": [],
            "needs_background": "light"
          }
        },
        {
          "output_type": "display_data",
          "data": {
            "image/png": "[encoded data removed]",
            "text/plain": [
              "<Figure size 432x288 with 1 Axes>"
            ]
          },
          "metadata": {
            "tags": [],
            "needs_background": "light"
          }
        },
        {
          "output_type": "display_data",
          "data": {
            "image/png": "[encoded data removed]",
            "text/plain": [
              "<Figure size 432x288 with 1 Axes>"
            ]
          },
          "metadata": {
            "tags": [],
            "needs_background": "light"
          }
        },
        {
          "output_type": "display_data",
          "data": {
            "image/png": "[encoded data removed]",
            "text/plain": [
              "<Figure size 432x288 with 1 Axes>"
            ]
          },
          "metadata": {
            "tags": [],
            "needs_background": "light"
          }
        },
        {
          "output_type": "display_data",
          "data": {
            "image/png": "[encoded data removed]",
            "text/plain": [
              "<Figure size 432x288 with 1 Axes>"
            ]
          },
          "metadata": {
            "tags": [],
            "needs_background": "light"
          }
        },
        {
          "output_type": "display_data",
          "data": {
            "image/png": "[encoded data removed]",
            "text/plain": [
              "<Figure size 432x288 with 1 Axes>"
            ]
          },
          "metadata": {
            "tags": [],
            "needs_background": "light"
          }
        },
        {
          "output_type": "display_data",
          "data": {
            "image/png": "[encoded data removed]",
            "text/plain": [
              "<Figure size 432x288 with 1 Axes>"
            ]
          },
          "metadata": {
            "tags": [],
            "needs_background": "light"
          }
        },
        {
          "output_type": "display_data",
          "data": {
            "image/png": "[encoded data removed]",
            "text/plain": [
              "<Figure size 432x288 with 1 Axes>"
            ]
          },
          "metadata": {
            "tags": [],
            "needs_background": "light"
          }
        },
        {
          "output_type": "display_data",
          "data": {
            "image/png": "[encoded data removed]",
            "text/plain": [
              "<Figure size 432x288 with 1 Axes>"
            ]
          },
          "metadata": {
            "tags": [],
            "needs_background": "light"
          }
        },
        {
          "output_type": "display_data",
          "data": {
            "image/png": "[encoded data removed]",
            "text/plain": [
              "<Figure size 432x288 with 1 Axes>"
            ]
          },
          "metadata": {
            "tags": [],
            "needs_background": "light"
          }
        },
        {
          "output_type": "display_data",
          "data": {
            "image/png": "[encoded data removed]",
            "text/plain": [
              "<Figure size 432x288 with 1 Axes>"
            ]
          },
          "metadata": {
            "tags": [],
            "needs_background": "light"
          }
        },
        {
          "output_type": "display_data",
          "data": {
            "image/png": "[encoded data removed]",
            "text/plain": [
              "<Figure size 432x288 with 1 Axes>"
            ]
          },
          "metadata": {
            "tags": [],
            "needs_background": "light"
          }
        },
        {
          "output_type": "display_data",
          "data": {
            "image/png": "[encoded data removed]",
            "text/plain": [
              "<Figure size 432x288 with 1 Axes>"
            ]
          },
          "metadata": {
            "tags": [],
            "needs_background": "light"
          }
        },
        {
          "output_type": "display_data",
          "data": {
            "image/png": "[encoded data removed]",
            "text/plain": [
              "<Figure size 432x288 with 1 Axes>"
            ]
          },
          "metadata": {
            "tags": [],
            "needs_background": "light"
          }
        },
        {
          "output_type": "display_data",
          "data": {
            "image/png": "[encoded data removed]",
            "text/plain": [
              "<Figure size 432x288 with 1 Axes>"
            ]
          },
          "metadata": {
            "tags": [],
            "needs_background": "light"
          }
        },
        {
          "output_type": "display_data",
          "data": {
            "image/png": "[encoded data removed]",
            "text/plain": [
              "<Figure size 432x288 with 1 Axes>"
            ]
          },
          "metadata": {
            "tags": [],
            "needs_background": "light"
          }
        },
        {
          "output_type": "display_data",
          "data": {
            "image/png": "[encoded data removed]",
            "text/plain": [
              "<Figure size 432x288 with 1 Axes>"
            ]
          },
          "metadata": {
            "tags": [],
            "needs_background": "light"
          }
        },
        {
          "output_type": "display_data",
          "data": {
            "image/png": "[encoded data removed]",
            "text/plain": [
              "<Figure size 432x288 with 1 Axes>"
            ]
          },
          "metadata": {
            "tags": [],
            "needs_background": "light"
          }
        },
        {
          "output_type": "display_data",
          "data": {
            "image/png": "[encoded data removed]",
            "text/plain": [
              "<Figure size 432x288 with 1 Axes>"
            ]
          },
          "metadata": {
            "tags": [],
            "needs_background": "light"
          }
        },
        {
          "output_type": "display_data",
          "data": {
            "image/png": "[encoded data removed]",
            "text/plain": [
              "<Figure size 432x288 with 1 Axes>"
            ]
          },
          "metadata": {
            "tags": [],
            "needs_background": "light"
          }
        },
        {
          "output_type": "display_data",
          "data": {
            "image/png": "[encoded data removed]",
            "text/plain": [
              "<Figure size 432x288 with 1 Axes>"
            ]
          },
          "metadata": {
            "tags": [],
            "needs_background": "light"
          }
        },
        {
          "output_type": "display_data",
          "data": {
            "image/png": "[encoded data removed]",
            "text/plain": [
              "<Figure size 432x288 with 1 Axes>"
            ]
          },
          "metadata": {
            "tags": [],
            "needs_background": "light"
          }
        },
        {
          "output_type": "display_data",
          "data": {
            "image/png": "[encoded data removed]",
            "text/plain": [
              "<Figure size 432x288 with 1 Axes>"
            ]
          },
          "metadata": {
            "tags": [],
            "needs_background": "light"
          }
        },
        {
          "output_type": "display_data",
          "data": {
            "image/png": "[encoded data removed]",
            "text/plain": [
              "<Figure size 432x288 with 1 Axes>"
            ]
          },
          "metadata": {
            "tags": [],
            "needs_background": "light"
          }
        },
        {
          "output_type": "display_data",
          "data": {
            "image/png": "[encoded data removed]",
            "text/plain": [
              "<Figure size 432x288 with 1 Axes>"
            ]
          },
          "metadata": {
            "tags": [],
            "needs_background": "light"
          }
        },
        {
          "output_type": "display_data",
          "data": {
            "image/png": "[encoded data removed]",
            "text/plain": [
              "<Figure size 432x288 with 1 Axes>"
            ]
          },
          "metadata": {
            "tags": [],
            "needs_background": "light"
          }
        },
        {
          "output_type": "display_data",
          "data": {
            "image/png": "[encoded data removed]",
            "text/plain": [
              "<Figure size 432x288 with 1 Axes>"
            ]
          },
          "metadata": {
            "tags": [],
            "needs_background": "light"
          }
        },
        {
          "output_type": "display_data",
          "data": {
            "image/png": "[encoded data removed]",
            "text/plain": [
              "<Figure size 432x288 with 1 Axes>"
            ]
          },
          "metadata": {
            "tags": [],
            "needs_background": "light"
          }
        },
        {
          "output_type": "display_data",
          "data": {
            "image/png": "[encoded data removed]",
            "text/plain": [
              "<Figure size 432x288 with 1 Axes>"
            ]
          },
          "metadata": {
            "tags": [],
            "needs_background": "light"
          }
        },
        {
          "output_type": "display_data",
          "data": {
            "image/png": "[encoded data removed]",
            "text/plain": [
              "<Figure size 432x288 with 1 Axes>"
            ]
          },
          "metadata": {
            "tags": [],
            "needs_background": "light"
          }
        },
        {
          "output_type": "display_data",
          "data": {
            "image/png": "[encoded data removed]",
            "text/plain": [
              "<Figure size 432x288 with 1 Axes>"
            ]
          },
          "metadata": {
            "tags": [],
            "needs_background": "light"
          }
        },
        {
          "output_type": "display_data",
          "data": {
            "image/png": "[encoded data removed]",
            "text/plain": [
              "<Figure size 432x288 with 1 Axes>"
            ]
          },
          "metadata": {
            "tags": [],
            "needs_background": "light"
          }
        },
        {
          "output_type": "display_data",
          "data": {
            "image/png": "[encoded data removed]",
            "text/plain": [
              "<Figure size 432x288 with 1 Axes>"
            ]
          },
          "metadata": {
            "tags": [],
            "needs_background": "light"
          }
        },
        {
          "output_type": "display_data",
          "data": {
            "image/png": "[encoded data removed]",
            "text/plain": [
              "<Figure size 432x288 with 1 Axes>"
            ]
          },
          "metadata": {
            "tags": [],
            "needs_background": "light"
          }
        },
        {
          "output_type": "display_data",
          "data": {
            "image/png": "[encoded data removed]",
            "text/plain": [
              "<Figure size 432x288 with 1 Axes>"
            ]
          },
          "metadata": {
            "tags": [],
            "needs_background": "light"
          }
        },
        {
          "output_type": "display_data",
          "data": {
            "image/png": "[encoded data removed]",
            "text/plain": [
              "<Figure size 432x288 with 1 Axes>"
            ]
          },
          "metadata": {
            "tags": [],
            "needs_background": "light"
          }
        },
        {
          "output_type": "display_data",
          "data": {
            "image/png": "[encoded data removed]",
            "text/plain": [
              "<Figure size 432x288 with 1 Axes>"
            ]
          },
          "metadata": {
            "tags": [],
            "needs_background": "light"
          }
        },
        {
          "output_type": "display_data",
          "data": {
            "image/png": "[encoded data removed]",
            "text/plain": [
              "<Figure size 432x288 with 1 Axes>"
            ]
          },
          "metadata": {
            "tags": [],
            "needs_background": "light"
          }
        },
        {
          "output_type": "stream",
          "text": [
            "calculated mse 0.18609374999999997\n",
            "theoritical mse 0.1736275\n"
          ],
          "name": "stdout"
        }
      ]
    },
    {
      "cell_type": "markdown",
      "metadata": {
        "id": "bwQ0B_2vGWgB"
      },
      "source": [
        "Below we show equation validation for binary occluders in 1D shift"
      ]
    },
    {
      "cell_type": "code",
      "metadata": {
        "colab": {
          "base_uri": "https://localhost:8080/",
          "height": 265
        },
        "id": "EyhoQ29KTS7u",
        "outputId": "a58b72fa-8384-4c1a-ffd9-f26f7315f8f7"
      },
      "source": [
        "max_no_integrated_images = 50\n",
        "occl_density = 0.15\n",
        "occl_size = 5\n",
        "occl_disparity = 5\n",
        "motion_shift = 20\n",
        "imgSize = (2048,2048)\n",
        "integral_image = np.zeros(imgSize)\n",
        "mixType = 'replace'\n",
        "signalType = 'binarymotion'\n",
        "signalMean = 0.0\n",
        "signalSigma = 0\n",
        "signalsize = (400,400)\n",
        "noiseType = 'binary'\n",
        "noiseSigma = 0;\n",
        "noiseMean = 1;\n",
        "N = 10\n",
        "if signalType == 'binarymotion':\n",
        "  signal = np.ones(imgSize)\n",
        "  print(np.floor(imgSize[0]/2-signalsize[0]/2), np.ceil(imgSize[0]/2+signalsize[0]/2), np.floor((signalsize[1]+1)-signalsize[1]/2), np.ceil((signalsize[1]+1)+signalsize[1]/2))\n",
        "  signal[int(np.floor(imgSize[0]/2-signalsize[0]/2)):int(np.ceil(imgSize[0]/2+signalsize[0]/2)),int(np.floor((signalsize[1]+1)-signalsize[1]/2)):int(np.ceil((signalsize[1]+1)+signalsize[1]/2))] = signalMean\n",
        "imshow(signal, vmin=0.0, vmax=1.0)\n",
        "plt.show()\n",
        "#for i in range(1,max_no_integrated_images):\n",
        "#  signal = np.roll(signal, motion_shift, axis=1)\n",
        "#  imshow(signal, vmin=0.0, vmax=1.0)\n",
        "#  plt.show()"
      ],
      "execution_count": 111,
      "outputs": [
        {
          "output_type": "stream",
          "text": [
            "824.0 1224.0 201.0 601.0\n"
          ],
          "name": "stdout"
        },
        {
          "output_type": "display_data",
          "data": {
            "image/png": "[encoded data removed]",
            "text/plain": [
              "<Figure size 432x288 with 1 Axes>"
            ]
          },
          "metadata": {
            "tags": [],
            "needs_background": "light"
          }
        }
      ]
    },
    {
      "cell_type": "code",
      "metadata": {
        "colab": {
          "base_uri": "https://localhost:8080/"
        },
        "id": "UkQC1kMD9YHk",
        "outputId": "3f831424-bf45-45f0-8671-09c86d083622"
      },
      "source": [
        "mse = []\n",
        "theo_mse = []\n",
        "singleimage_stack = []\n",
        "noiseImgSize = (int(np.ceil( imgSize[0]/occl_size + (max_no_integrated_images*occl_disparity))),int(np.ceil( imgSize[1]/occl_size + max_no_integrated_images*occl_disparity)))\n",
        "print(noiseImgSize)\n",
        "uniform_rand_img = (np.random.uniform(low = 0.0, high = 1.0,size = noiseImgSize) <= occl_density).astype(int)\n",
        "shiftImg = cv2.resize(src = uniform_rand_img, dsize = (noiseImgSize[0]*occl_size,noiseImgSize[1]*occl_size), interpolation = cv2.INTER_NEAREST)\n",
        "nonzerosimg = shiftImg[np.nonzero(shiftImg)]\n",
        "print('min: {}, max: {}'.format(min(nonzerosimg), max(nonzerosimg)))\n",
        "#imshow(shiftImg, vmin=0.0, vmax=1.0)\n",
        "#plt.title( 'mean: {}, var: {}'.format(np.mean(shiftImg), np.var(shiftImg)))\n",
        "#plt.show()\n",
        "summedimage = np.zeros(imgSize)\n",
        "for i in range(1,max_no_integrated_images):\n",
        "  pixShift = i * occl_disparity\n",
        "  tmp = np.zeros(imgSize)\n",
        "  tmp = shiftImg[0:imgSize[0],pixShift+0:pixShift+imgSize[1]]\n",
        "  signal = np.roll(signal, motion_shift, axis=1)\n",
        "  combimg = tmp + signal\n",
        "  combimg[combimg>=noiseMean] = noiseMean\n",
        "  #imshow(combimg, vmin=0.0, vmax=1.0)\n",
        "  #plt.show()\n",
        "  #imshow(signal, vmin=0.0, vmax=1.0)\n",
        "  #plt.show()\n",
        "  singleimage_stack.append(combimg)\n",
        "  summedimage = summedimage + combimg\n",
        "  integral_image = summedimage / i\n",
        "  startpos = np.floor((signalsize[1]+1)-signalsize[1]/2) + (min(i, np.ceil(signalsize[1]/motion_shift))) * motion_shift\n",
        "  endpos =  np.floor((signalsize[1]+1)+signalsize[1]/2) + (max(i-np.ceil(signalsize[1]/motion_shift),1)) * motion_shift\n",
        "  projimg = integral_image[int(np.floor(imgSize[0]/2-signalsize[0]/2)):int(np.ceil(imgSize[0]/2+signalsize[0]/2)),int(startpos):int(endpos)]\n",
        "  sigimg = np.ones(projimg.shape)*signalMean\n",
        "  squared_subtractimg = np.square(np.subtract(projimg,sigimg))\n",
        "  avg = np.mean(squared_subtractimg)\n",
        "  noofimageoverlap = min(i, np.ceil(signalsize[1]/motion_shift));\n",
        "  theoriticalmse = theoritcal_MSE(signalMean,signalSigma,noiseMean,noiseSigma,occl_density,i,noofimageoverlap)\n",
        "  print('mse: {}, theomse: {}'.format(avg, theoriticalmse))\n",
        "  mse.append(avg)\n",
        "  theo_mse.append(theoriticalmse)     \n"
      ],
      "execution_count": 112,
      "outputs": [
        {
          "output_type": "stream",
          "text": [
            "(660, 660)\n",
            "min: 1, max: 1\n",
            "mse: 0.15711875, theomse: 0.15000000000000002\n",
            "mse: 0.09056578947368421, theomse: 0.08625000000000001\n",
            "mse: 0.06717592592592592, theomse: 0.065\n",
            "mse: 0.05548988970588235, theomse: 0.05437500000000001\n",
            "mse: 0.04923468750000001, theomse: 0.048\n",
            "mse: 0.04471087962962963, theomse: 0.043750000000000004\n",
            "mse: 0.04104354956268222, theomse: 0.04071428571428572\n",
            "mse: 0.03862560096153846, theomse: 0.038437500000000006\n",
            "mse: 0.03714853395061729, theomse: 0.036666666666666674\n",
            "mse: 0.035290568181818194, theomse: 0.035250000000000004\n",
            "mse: 0.033829442148760325, theomse: 0.034090909090909095\n",
            "mse: 0.03271942515432099, theomse: 0.033125\n",
            "mse: 0.0314940828402367, theomse: 0.03230769230769235\n",
            "mse: 0.030573797376093295, theomse: 0.03160714285714286\n",
            "mse: 0.030272037037037042, theomse: 0.031000000000000007\n",
            "mse: 0.03036279296875, theomse: 0.030468750000000006\n",
            "mse: 0.030035034602076124, theomse: 0.030000000000000006\n",
            "mse: 0.029160108024691357, theomse: 0.02958333333333334\n",
            "mse: 0.028281855955678673, theomse: 0.02921052631578948\n",
            "mse: 0.0269296875, theomse: 0.028875000000000005\n",
            "mse: 0.03983701814058956, theomse: 0.04206349206349206\n",
            "mse: 0.05346758780991735, theomse: 0.056921487603305794\n",
            "mse: 0.06862114051669817, theomse: 0.0728733459357278\n",
            "mse: 0.0850334201388889, theomse: 0.08949652777777775\n",
            "mse: 0.10219056000000003, theomse: 0.10647999999999996\n",
            "mse: 0.11918102810650888, theomse: 0.12359467455621301\n",
            "mse: 0.13653490593768372, theomse: 0.14067215363511656\n",
            "mse: 0.15345948262117345, theomse: 0.15758928571428577\n",
            "mse: 0.17002176641564276, theomse: 0.17425683709869208\n",
            "mse: 0.18684602777777778, theomse: 0.19061111111111112\n",
            "mse: 0.20320851858859143, theomse: 0.20660770031217485\n",
            "mse: 0.21920891316731772, theomse: 0.222216796875\n",
            "mse: 0.23474441972169244, theomse: 0.23741965105601473\n",
            "mse: 0.2495667789174493, theomse: 0.25220588235294117\n",
            "mse: 0.26405997278911564, theomse: 0.2665714285714285\n",
            "mse: 0.27804477117091053, theomse: 0.280516975308642\n",
            "mse: 0.2918516897262923, theomse: 0.29404674945215487\n",
            "mse: 0.3054622672360728, theomse: 0.3071675900277007\n",
            "mse: 0.31856261462334334, theomse: 0.319888231426693\n",
            "mse: 0.33107076171875, theomse: 0.33221874999999995\n",
            "mse: 0.34299993626242886, theomse: 0.34417013682331954\n",
            "mse: 0.3545805342970523, theomse: 0.35575396825396827\n",
            "mse: 0.36589864380276055, theomse: 0.3669821525148729\n",
            "mse: 0.3769809745179063, theomse: 0.3778667355371901\n",
            "mse: 0.387636101234568, theomse: 0.38841975308641974\n",
            "mse: 0.39786818152900966, theomse: 0.39865311909262763\n",
            "mse: 0.4077412898412219, theomse: 0.40857854232684476\n",
            "mse: 0.4173336588541666, theomse: 0.4182074652777777\n",
            "mse: 0.42675273592899515, theomse: 0.42755102040816334\n"
          ],
          "name": "stdout"
        }
      ]
    },
    {
      "cell_type": "code",
      "metadata": {
        "colab": {
          "base_uri": "https://localhost:8080/",
          "height": 265
        },
        "id": "aTCYSYqLFZlq",
        "outputId": "7c1cd386-5d00-4775-fa0b-180488e85924"
      },
      "source": [
        "plt.plot(range(1,max_no_integrated_images), mse, 'g--', linewidth=2, markersize=12)\n",
        "plt.plot(range(1,max_no_integrated_images), theo_mse, 'r', linewidth=2, markersize=12)\n",
        "plt.show()"
      ],
      "execution_count": 113,
      "outputs": [
        {
          "output_type": "display_data",
          "data": {
            "image/png": "[encoded data removed]",
            "text/plain": [
              "<Figure size 432x288 with 1 Axes>"
            ]
          },
          "metadata": {
            "tags": [],
            "needs_background": "light"
          }
        }
      ]
    },
    {
      "cell_type": "code",
      "metadata": {
        "colab": {
          "base_uri": "https://localhost:8080/"
        },
        "id": "h43gB9N2s4it",
        "outputId": "f408954d-1577-4709-fcf0-5c955c9fc6d7"
      },
      "source": [
        "import numpy as np\n",
        "import cv2\n",
        "import matplotlib.pyplot as plt\n",
        "nums = (np.random.uniform(low = 0.0, high = 1.0,size = (40,40)) <= 0.5).astype(int)\n",
        "print(nums)\n",
        "print(np.mean(nums), np.count_nonzero(nums)/1000)"
      ],
      "execution_count": 35,
      "outputs": [
        {
          "output_type": "stream",
          "text": [
            "[[0 1 1 ... 1 1 1]\n",
            " [1 0 0 ... 0 1 0]\n",
            " [0 0 0 ... 0 1 0]\n",
            " ...\n",
            " [0 0 0 ... 0 0 1]\n",
            " [1 0 1 ... 0 1 0]\n",
            " [0 0 1 ... 1 0 0]]\n",
            "0.523125 0.837\n"
          ],
          "name": "stdout"
        }
      ]
    }
  ]
}