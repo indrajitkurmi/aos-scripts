{
  "nbformat": 4,
  "nbformat_minor": 2,
  "metadata": {
    "colab": {
      "name": "Copy of MSE with Motion_DRIVE",
      "provenance": [],
      "collapsed_sections": [],
      "include_colab_link": true
    },
    "kernelspec": {
      "name": "python3",
      "display_name": "Python 3.7.9 64-bit"
    },
    "language_info": {
      "name": "python",
      "version": "3.7.9",
      "mimetype": "text/x-python",
      "codemirror_mode": {
        "name": "ipython",
        "version": 3
      },
      "pygments_lexer": "ipython3",
      "nbconvert_exporter": "python",
      "file_extension": ".py"
    },
    "interpreter": {
      "hash": "4a45cccc4463853c93d05a566aff904cd63ca24a9d09bd79747d01abe0028757"
    }
  },
  "cells": [
    {
      "cell_type": "markdown",
      "source": [
        "<a href=\"https://colab.research.google.com/github/indrajitkurmi/aos-scripts/blob/main/MSE_with_Motion_DRIVE.ipynb\" target=\"_parent\"><img src=\"https://colab.research.google.com/assets/colab-badge.svg\" alt=\"Open In Colab\"/></a>"
      ],
      "metadata": {
        "id": "view-in-github",
        "colab_type": "text"
      }
    },
    {
      "cell_type": "code",
      "execution_count": null,
      "source": [
        "import numpy as np\r\n",
        "import cv2\r\n",
        "import matplotlib.pyplot as plt\r\n",
        "\r\n",
        "\r\n",
        "# utility function(s)\r\n",
        "def imshow(image, *args, **kwargs):\r\n",
        "    \"\"\"A replacement for cv2.imshow() for use in Jupyter notebooks using matplotlib.\r\n",
        "\r\n",
        "        Args:\r\n",
        "          image : np.ndarray. shape (N, M) or (N, M, 1) is an NxM grayscale image. shape\r\n",
        "            (N, M, 3) is an NxM BGR color image. \r\n",
        "    \"\"\"\r\n",
        "    if len(image.shape) == 3:\r\n",
        "      # Height, width, channels\r\n",
        "      # Assume BGR, do a conversion  \r\n",
        "      image = cv2.cvtColor(image, cv2.COLOR_BGR2RGB)\r\n",
        "\r\n",
        "    # Draw the image\r\n",
        "    plt.imshow(image, *args, **kwargs)\r\n",
        "    # We'll also disable drawing the axes and tick marks in the plot, since it's actually an image\r\n",
        "    plt.axis('off')\r\n",
        "    # Make sure it outputs\r\n",
        "    # plt.show()"
      ],
      "outputs": [],
      "metadata": {
        "id": "U50WLRkSBocg"
      }
    },
    {
      "cell_type": "markdown",
      "source": [
        "A single binary view (area: $w \\times w$) is composed of zero background and of a target of size $a \\times a$. The mean and variance of such a 2D view are \n",
        "$$\n",
        "\\mu = \\frac{a^2}{w^2} \\\\\n",
        "\\sigma = \\mu(\\mu-1)^2 + (1-\\mu)(\\mu-0)^2 =  \\mu - \\mu^2\n",
        "$$\n",
        ", where the mean ($\\mu$) also describes the size relation of the target with respect to the view. The term $(\\mu-1)^2$ is the variance computation in the target and $(\\mu-0)^2 = \\mu^2$ the variance for the background.\n",
        "\n",
        "The code below shows such an example:"
      ],
      "metadata": {
        "id": "iPsbrmoJqK0m"
      }
    },
    {
      "cell_type": "code",
      "execution_count": null,
      "source": [
        "w = 300\r\n",
        "a =  50\r\n",
        "sx,sy = int(w/3), int(w/3)\r\n",
        "\r\n",
        "single = np.zeros((300,300))\r\n",
        "single[sx:sx+a,sy:sy+a] = 1.0\r\n",
        "\r\n",
        "imshow(single)\r\n",
        "plt.title( 'mean: {}, var: {}'.format(np.mean(single), np.var(single)))\r\n",
        "plt.show()"
      ],
      "outputs": [],
      "metadata": {
        "colab": {
          "base_uri": "https://localhost:8080/",
          "height": 264
        },
        "id": "lcMr1P_-B7bc",
        "outputId": "ab026d6c-a05f-4a6e-cf27-07be7099a5c2"
      }
    },
    {
      "cell_type": "markdown",
      "source": [
        "If multiple such single views are averaged (as typically done in AOS) it has no effect on the variance and mean as long as the target is perfectly registered. \n",
        "\n",
        "If the target, however, is not registered (e.g., a moving target or by defocus) the statistics change. \n",
        "Let's first look at the extreme case, where the averaged targets are not overlapping anymore. This is showcased below by introducing a shift $d$ for $N$ images.\n",
        "The mean ($\\mu$) is not altered, but the variance changes:\n",
        "$$\n",
        "\\sigma = N\\mu(\\mu-\\frac{1}{N})^2 + (1-N\\mu)(\\mu-0)^2 =  \\frac{\\mu}{N} - \\mu^2 \\text{.}\n",
        "$$\n",
        "The change of $\\sigma$ is inverse proportional to $N$. Note that $N\\mu$ describes the area covered by the non-overlapping instances of the target. "
      ],
      "metadata": {
        "id": "SyWhnSbssdgr"
      }
    },
    {
      "cell_type": "code",
      "execution_count": null,
      "source": [
        "w = 300\r\n",
        "a =  20\r\n",
        "r = a*a / w**2 # ratio/mean\r\n",
        "print(r)\r\n",
        "d = 25\r\n",
        "N = 10\r\n",
        "sx,sy = int(a), int(a)\r\n",
        "sum = np.zeros((w,w))\r\n",
        "\r\n",
        "for i in range(N):\r\n",
        "  single = np.zeros((w,w))\r\n",
        "  x,y = sx + i*d, sy\r\n",
        "  single[x:x+a,y:y+a] = 1.0\r\n",
        "  sum += single\r\n",
        "\r\n",
        "sum = sum/N\r\n",
        "\r\n",
        "imshow(sum, vmin=0.0, vmax=1.0)\r\n",
        "plt.title( 'mean: {}, var: {}'.format(np.mean(sum), np.var(sum)))\r\n",
        "plt.show()\r\n",
        "\r\n",
        "# variance computation\r\n",
        "v_overlap = r - r**2\r\n",
        "v_nonoverlap = r/N - r**2\r\n",
        "print('var (non-overlap): {}'.format( v_nonoverlap ) )\r\n"
      ],
      "outputs": [],
      "metadata": {
        "colab": {
          "base_uri": "https://localhost:8080/",
          "height": 299
        },
        "id": "hlOm7fXbC9Oz",
        "outputId": "b809470f-b1c9-4ea5-ca70-a6b685cf59cb"
      }
    },
    {
      "cell_type": "markdown",
      "source": [
        "If the shift $d$ is less then the target size $a$ $(d < a)$ the targets will overlap in the integral image. For simplicity we will just look at the problem in 1D now. \n",
        "The area (normalized by the area size) that is covered by the non-overlapping targets can be expressed by \n",
        "$$\n",
        "  g = \\frac{d(N-1)+a}{w}\n",
        "$$\n",
        "and the number of overlaps is expressed by \n",
        "$$\n",
        "  M = \\frac{a}{d}\n",
        "$$\n",
        ", where it has to be ensured that $M$ does not exceed $N$. \n",
        "Furthermore, there will be different regions with a varying amount of overlap. For example a target with $a=5$ a shift of $d=2$ and $N=7$ results in 4 regions without overlap in 8 regions where two target instances overlap and 5 regions with an overlap of three targets. Note that this is illustrated in the example below. Furthermore, in this simulation a region is a pixel or array cell. \n",
        "\n",
        "To compute the variance the different overlaps have to be considered. We introduce this as a count $c_i$, where $i$ is the number of overlapping targets. In the example this results in $c_1=4, c_2=8$, and $c_3=5$.\n",
        "The equation to compute the variance thus expands to\n",
        "$$\n",
        "  \\sigma = (1-g)\\mu^2 + \\frac{1}{w} \\sum_i c_i (\\mu - \\frac{i}{N})^2 \\\\\n",
        "   =  \\mu^2 - \\frac{2\\mu}{Nw} \\sum_i c_i i + \\frac{1}{N^2w} \\sum_i c_i i^2 \\text{.}\n",
        "$$\n",
        "By subsituting $\\mu = a/w$ (in 1D) it further simplifies to\n",
        "$$\n",
        "  \\sigma =  \\frac{a^2}{w^2} - \\frac{2a}{Nw^2} \\sum_i{ c_i i }+ \\frac{1}{N^2w} \\sum_i c_i i^2 \\text{.}\n",
        "$$\n",
        "\n",
        "Note that it is propably impractical to always compute $c_i$ so it might be possible to simplify or approximate these terms. A first attempt would be to approximate the terms by\n",
        "$$\n",
        " \\sum_i{ c_i i }   \\approx M (d (N-1-M)+a) \\\\\n",
        " \\sum_i{ c_i i^2 } \\approx M^2 (d (N-1-M)+a) \\text{.}\n",
        "$$\n",
        "This, however does not allways lead to close results (see below). \n",
        "\n"
      ],
      "metadata": {
        "id": "icUep5Q1vkXl"
      }
    },
    {
      "cell_type": "code",
      "execution_count": null,
      "source": [
        "w = 30\r\n",
        "a =  5\r\n",
        "r = a / w # ratio/mean\r\n",
        "print(r)\r\n",
        "d = 2\r\n",
        "N = 7\r\n",
        "sx,sy = int(a), int(a)\r\n",
        "sum = np.zeros((1,w))\r\n",
        "\r\n",
        "for i in range(N):\r\n",
        "  single = np.zeros_like(sum)\r\n",
        "  x,y = sx + i*d, sy\r\n",
        "  single[:,x:x+a] = 1.0\r\n",
        "  sum += single\r\n",
        "\r\n",
        "count,bins=np.histogram(sum, bins=np.arange(np.max(sum)+2))\r\n",
        "print(count) \r\n",
        "print(np.asarray(bins[:-1],dtype=np.int16))\r\n",
        "sum = sum/N\r\n",
        "\r\n",
        "imshow(sum, vmin=0.0, vmax=1.0)\r\n",
        "plt.title( 'mean: {}, var: {}'.format(np.mean(sum), np.var(sum)))\r\n",
        "plt.show()\r\n",
        "\r\n",
        "# variance computation\r\n",
        "if d<=0:\r\n",
        "  M = N\r\n",
        "else:\r\n",
        "  M = max(min(a/d,N),1)\r\n",
        "\r\n",
        "v_overlap = r - r**2        # assuming everything is overlapping\r\n",
        "v_nonoverlap = r/N - r**2   # assuming nothing is overlapping in the integral\r\n",
        "\r\n",
        "term1 = np.sum(bins[:-1] * count)\r\n",
        "term2 = np.sum(bins[:-1]**2 * count)\r\n",
        "v = a**2/w**2 - 2*a/(N*w**2)*term1 + 1/(N**2*w)*term2\r\n",
        "print('var (new): {}'.format( v ) )\r\n",
        "\r\n",
        "# approximate term1 and term2\r\n",
        "term1_ = M * (d*(N-1-M)+a)\r\n",
        "term2_ = term1_ * M\r\n",
        "v_ = a**2/w**2 - 2*a/(N*w**2)*term1_ + 1/(N**2*w)*term2_\r\n",
        "print('var (approx): {}'.format( v_ ) )\r\n",
        "\r\n"
      ],
      "outputs": [],
      "metadata": {
        "colab": {
          "base_uri": "https://localhost:8080/",
          "height": 145
        },
        "id": "Ig3YnjtzPRHZ",
        "outputId": "218c37ed-2704-4ec0-9f6f-70a5f1dd2424"
      }
    },
    {
      "cell_type": "markdown",
      "source": [
        "In this section, we discuss the statistical model of the\n",
        "$MSE$ between an integral image $X$ and an hypothetical\n",
        "occlusion-free reference $S$ . \n",
        "$$\n",
        "MSE = E[(X- S)^2] = E[X^2] -2E[XS] +E[S^2]\n",
        "$$\n",
        "Currently assuming ground also as an occluder with same mean and variance the occluders the integral image X can be defined as :-\n",
        "$$\n",
        "X = \\frac{1}{N}\\bigg[\\sum_{i=1}^{A} Z_iO_i + (1- Z_i)S + \\sum_{i = A+1}^{N} O_i \\bigg]\n",
        "$$\n",
        "Thus\n",
        "$$\n",
        "MSE = \\bigg[\\bigg(1 - \\frac{A(1-D)}{N}\\bigg)^2 + \\frac{AD(1-D)}{N^2}\\bigg] \\bigg(\\sigma_s^2 + (\\mu_o - \\mu_s)^2\\bigg) +  \\frac{AD + N - A}{N^2} \\sigma_o^2\n",
        "$$"
      ],
      "metadata": {
        "id": "ojGWvGUyAHGE"
      }
    },
    {
      "cell_type": "markdown",
      "source": [
        "Below is theorithical MSE calulation provided ( signal mean, siganl variance, occluder mean, occluder variance, occluder density, no of integrated images, numof overlapping images)\n",
        "\n",
        "--- Current Equation works when number of overlapping images images are integers ( i.e image size is multiple of shift)"
      ],
      "metadata": {
        "id": "Q2tcpUKFfVrU"
      }
    },
    {
      "cell_type": "code",
      "execution_count": null,
      "source": [
        "def theoritcal_MSE(signalmean,signalvar,occlmean,occlvar,occldens,noofintegratedimage,numofover):\r\n",
        "  MSE = ((1-(numofover*(1-occldens)/noofintegratedimage))**2 + (numofover*occldens*(1-occldens)/(noofintegratedimage**2)))*(signalvar+(occlmean-signalmean)**2) + (((numofover*occldens+noofintegratedimage-numofover)/(noofintegratedimage**2))*occlvar)\r\n",
        "  return MSE"
      ],
      "outputs": [],
      "metadata": {
        "id": "JfJT8WEjDRBL"
      }
    },
    {
      "cell_type": "code",
      "execution_count": null,
      "source": [
        "def theoritcal_MSE_Parallel_Sequential(signalmean,signalvar,occlmean,occlvar,occldens,noofintegratedimage,numofover, numofparallel):\r\n",
        "  numofover = numofover * numofparallel\r\n",
        "  MSE = ((1-(numofover*(1-occldens)/noofintegratedimage))**2 + (numofover*occldens*(1-occldens)/(noofintegratedimage**2)))*(signalvar+(occlmean-signalmean)**2) + (((numofover*occldens+noofintegratedimage-numofover)/(noofintegratedimage**2))*occlvar)\r\n",
        "  return MSE"
      ],
      "outputs": [],
      "metadata": {
        "id": "CL8EzRCUwbew"
      }
    },
    {
      "cell_type": "markdown",
      "source": [
        "Below we measure mse when no occlusion is present in 1D Case"
      ],
      "metadata": {
        "id": "ginGvIP1gJNs"
      }
    },
    {
      "cell_type": "code",
      "execution_count": null,
      "source": [
        "w = 100\r\n",
        "a =  15\r\n",
        "r = a / w # ratio/mean\r\n",
        "print(r)\r\n",
        "d = 5\r\n",
        "N = 10\r\n",
        "signalmean = 0.5\r\n",
        "sx,sy = int(a), int(a)\r\n",
        "sum = np.zeros((1,w))\r\n",
        "singleimagearray =[]\r\n",
        "for i in range(N):\r\n",
        "  single = np.zeros_like(sum)\r\n",
        "  x,y = sx + i*d, sy\r\n",
        "  single[:,x:x+a] = signalmean\r\n",
        "  imshow(single, vmin=0.0, vmax=1.0)\r\n",
        "  plt.show()\r\n",
        "  singleimagearray.append(single)\r\n",
        "  sum += single\r\n",
        "sum = sum/N\r\n",
        "imshow(sum, vmin=0.0, vmax=1.0)\r\n",
        "plt.title( 'mean: {}, var: {}'.format(np.mean(sum), np.var(sum)))\r\n",
        "plt.show()\r\n",
        "#####Calculate Mean square error#############\r\n",
        "noofpix = d\r\n",
        "x,y = sx + 0*d, sy\r\n",
        "endx,endy = sx + (N-2)*d, sy\r\n",
        "imshow(sum[:,x+a-noofpix:endx+a-noofpix], vmin=0.0, vmax=1.0)\r\n",
        "plt.title( 'Integrated Signal mean: {}, var: {}'.format(np.mean(sum[:,x+a-noofpix:endx+a-noofpix]), np.var(sum[:,x+a-noofpix:endx+a-noofpix])))\r\n",
        "plt.show() \r\n",
        "nopa = sum[:,x+a-noofpix:endx+a-noofpix]\r\n",
        "nop = len(nopa)\r\n",
        "sourcesingle = np.zeros((1,w))\r\n",
        "sourcesingle[:,x+a-noofpix:endx+a-noofpix] = signalmean\r\n",
        "imshow(sourcesingle[:,x+a-noofpix:endx+a-noofpix], vmin=0.0, vmax=1.0)\r\n",
        "plt.title( 'Source Signal mean: {}, var: {}'.format(np.mean(sourcesingle[:,x+a-noofpix:endx+a-noofpix]), np.var(sourcesingle[:,x+a-noofpix:endx+a-noofpix])))\r\n",
        "plt.show() \r\n",
        "calcmse = np.mean((sum[:,x+a-noofpix:endx+a-noofpix] - sourcesingle[:,x+a-noofpix:endx+a-noofpix])**2)\r\n",
        "print(\"calculated mse\",calcmse)\r\n",
        "theoriticalmse = theoritcal_MSE(0.5,0,0,0,0,N,int(a/d))\r\n",
        "print(\"theoritical mse\",theoriticalmse)"
      ],
      "outputs": [],
      "metadata": {
        "id": "nLUyUy_LFFkO",
        "colab": {
          "base_uri": "https://localhost:8080/",
          "height": 364
        },
        "outputId": "2ebf9f52-428e-45f2-bc3b-585261c92d63"
      }
    },
    {
      "cell_type": "markdown",
      "source": [
        "Below we show equation validation for binary occluders in 1D shift when computed with a 2D image"
      ],
      "metadata": {
        "id": "bwQ0B_2vGWgB"
      }
    },
    {
      "cell_type": "code",
      "execution_count": null,
      "source": [
        "max_no_integrated_images = 50\r\n",
        "occl_density = 0.15\r\n",
        "occl_size = 5\r\n",
        "occl_disparity = 5\r\n",
        "motion_shift = 20\r\n",
        "imgSize = (2048,2048)\r\n",
        "integral_image = np.zeros(imgSize)\r\n",
        "mixType = 'replace'\r\n",
        "signalType = 'binarymotion'\r\n",
        "signalMean = 0.0\r\n",
        "signalSigma = 0\r\n",
        "signalsize = (400,400)\r\n",
        "noiseType = 'binary'\r\n",
        "noiseSigma = 0\r\n",
        "noiseMean = 1\r\n",
        "N = 10\r\n",
        "if signalType == 'binarymotion':\r\n",
        "  signal = np.ones(imgSize) # create signal filled with ones and create a signal region in the image\r\n",
        "  signal[int(np.floor(imgSize[0]/2-signalsize[0]/2)):int(np.ceil(imgSize[0]/2+signalsize[0]/2)),int(np.floor((signalsize[1]+1)-signalsize[1]/2)):int(np.ceil((signalsize[1]+1)+signalsize[1]/2))] = signalMean\r\n",
        "imshow(signal, vmin=0.0, vmax=1.0)\r\n",
        "plt.show()\r\n",
        "## To Check Moving  Signal\r\n",
        "#for i in range(1,max_no_integrated_images):\r\n",
        "#  rotsignal = np.roll(signal, i*motion_shift, axis=1)\r\n",
        "#  imshow(rotsignal, vmin=0.0, vmax=1.0)\r\n",
        "#  plt.show()\r\n",
        "mse = []\r\n",
        "theo_mse = []\r\n",
        "singleimage_stack = []\r\n",
        "noiseImgSize = (int(np.ceil( imgSize[0]/occl_size + (max_no_integrated_images*occl_disparity))),int(np.ceil( imgSize[1]/occl_size + max_no_integrated_images*occl_disparity)))\r\n",
        "print(noiseImgSize)\r\n",
        "#create uniformly distributed random image filled with ones\r\n",
        "uniform_rand_img = (np.random.uniform(low = 0.0, high = 1.0,size = noiseImgSize) <= occl_density).astype(int) * noiseMean\r\n",
        "#resize the image to create occluders of size occl_size\r\n",
        "shiftImg = cv2.resize(src = uniform_rand_img, dsize = (noiseImgSize[0]*occl_size,noiseImgSize[1]*occl_size), interpolation = cv2.INTER_NEAREST)\r\n",
        "#To check if occluders are binary with noise mean\r\n",
        "nonzerosimg = shiftImg[np.nonzero(shiftImg)]\r\n",
        "print('min: {}, max: {}'.format(min(nonzerosimg), max(nonzerosimg)))\r\n",
        "#imshow(shiftImg, vmin=0.0, vmax=1.0)\r\n",
        "#plt.title( 'mean: {}, var: {}'.format(np.mean(shiftImg), np.var(shiftImg)))\r\n",
        "#plt.show()\r\n",
        "summedimage = np.zeros(imgSize)\r\n",
        "for i in range(1,max_no_integrated_images):\r\n",
        "  pixShift = i * occl_disparity\r\n",
        "  tmp = np.zeros(imgSize)\r\n",
        "  #Take a shifted portion of the noise image\r\n",
        "  tmp = shiftImg[0:imgSize[0],pixShift+0:pixShift+imgSize[1]]\r\n",
        "  #shift the signal to show the motion\r\n",
        "  signal = np.roll(signal, motion_shift, axis=1)\r\n",
        "  #replace where noise is zero\r\n",
        "  combimg = tmp.copy()\r\n",
        "  combimg[tmp == 0] = signal[tmp == 0]\r\n",
        "  \r\n",
        "  #combimg = tmp + signal\r\n",
        "  #combimg[combimg>=noiseMean] = noiseMean\r\n",
        "  #imshow(combimg, vmin=0.0, vmax=1.0)\r\n",
        "  #plt.show()\r\n",
        "  #imshow(signal, vmin=0.0, vmax=1.0)\r\n",
        "  #plt.show()\r\n",
        "  #add to the sum image\r\n",
        "  summedimage = summedimage + combimg\r\n",
        "  # divide by i to get the mean integral image\r\n",
        "  integral_image = summedimage / i\r\n",
        "  #calculate start and end pos of area for which mse is calulated ---\r\n",
        "  # For N < A we take image regions where N signal images are integrated\r\n",
        "  # For N > A we take image regions where A signal images are integrated\r\n",
        "  startpos = np.floor((signalsize[1]+1)-signalsize[1]/2) + (min(i, np.ceil(signalsize[1]/motion_shift))) * motion_shift\r\n",
        "  endpos =  np.floor((signalsize[1]+1)+signalsize[1]/2) + (max(i-np.ceil(signalsize[1]/motion_shift),1)) * motion_shift\r\n",
        "  # Copy the selected region from the integral image\r\n",
        "  projimg = integral_image[int(np.floor(imgSize[0]/2-signalsize[0]/2)):int(np.ceil(imgSize[0]/2+signalsize[0]/2)),int(startpos):int(endpos)]\r\n",
        "  # create a binary signal image of same region\r\n",
        "  sigimg = np.ones(projimg.shape)*signalMean\r\n",
        "  # calculate mse\r\n",
        "  squared_subtractimg = np.square(np.subtract(projimg,sigimg))\r\n",
        "  avg = np.mean(squared_subtractimg)\r\n",
        "  # For N < A we take A = N\r\n",
        "  # For N >= A we take A\r\n",
        "  noofimageoverlap = min(i, np.ceil(signalsize[1]/motion_shift));\r\n",
        "  # Calculate  theoritical mse\r\n",
        "  theoriticalmse = theoritcal_MSE(signalMean,signalSigma,noiseMean,noiseSigma,occl_density,i,noofimageoverlap)\r\n",
        "  print('measured mse: {}, theoritical mse: {}'.format(avg, theoriticalmse))\r\n",
        "  mse.append(avg)\r\n",
        "  theo_mse.append(theoriticalmse)\r\n",
        "plt.plot(range(1,max_no_integrated_images), mse, 'g--', linewidth=2, markersize=12 , label = 'measured mse')\r\n",
        "plt.plot(range(1,max_no_integrated_images), theo_mse, 'r', linewidth=2, markersize=12 , label = 'theoritical mse')\r\n",
        "plt.legend()\r\n",
        "plt.show()  "
      ],
      "outputs": [],
      "metadata": {
        "colab": {
          "base_uri": "https://localhost:8080/",
          "height": 1000
        },
        "id": "EyhoQ29KTS7u",
        "outputId": "91f67b37-c052-46a9-9d40-c9497ee5e8a5"
      }
    },
    {
      "cell_type": "code",
      "execution_count": null,
      "source": [
        "w = 100\r\n",
        "a =  20\r\n",
        "r = a / w # ratio/mean\r\n",
        "print(r)\r\n",
        "d = 2\r\n",
        "o_size = 2\r\n",
        "o_shift = 2\r\n",
        "o_dens = 0.7\r\n",
        "N = 20\r\n",
        "\r\n",
        "sx,sy = int(a), int(a)\r\n",
        "sum = np.zeros((1,w))\r\n",
        "singleimagearray =[]\r\n",
        "occlimage = np.random.choice([0, 1], size=(1,50), p=[o_dens, 1-o_dens]) #np.random.binomial(n=1, p=1-o_dens, size=(1,50))\r\n",
        "print(np.mean(occlimage), np.count_nonzero(occlimage), np.count_nonzero(occlimage)/50)\r\n",
        "imshow(occlimage, vmin=0.0, vmax=1.0)\r\n",
        "plt.show()\r\n",
        "occlimage = occlimage.repeat(o_size, axis=1)\r\n",
        "meas_dens = 1 - np.count_nonzero(occlimage)/100\r\n",
        "print(np.mean(occlimage), np.count_nonzero(occlimage),np.count_nonzero(occlimage)/100)\r\n",
        "imshow(occlimage, vmin=0.0, vmax=1.0)\r\n",
        "plt.show()\r\n",
        "shiftedocclimage = np.roll(occlimage, 2)\r\n",
        "imshow(shiftedocclimage, vmin=0.0, vmax=1.0)\r\n",
        "plt.show()\r\n",
        "for i in range(N):\r\n",
        "  single = np.zeros_like(sum)\r\n",
        "  x,y = sx + i*d, sy\r\n",
        "  single[:,x:x+a] = 0.5\r\n",
        "  shiftedocclimage = np.roll(occlimage, i*o_shift)\r\n",
        "  imshow(shiftedocclimage, vmin=0.0, vmax=1.0)\r\n",
        "  plt.show()\r\n",
        "  single = single * shiftedocclimage\r\n",
        "  imshow(single, vmin=0.0, vmax=1.0)\r\n",
        "  plt.show()\r\n",
        "  singleimagearray.append(single)\r\n",
        "  sum += single\r\n",
        "sum = sum/N\r\n",
        "imshow(sum, vmin=0.0, vmax=1.0)\r\n",
        "plt.title( 'mean: {}, var: {}'.format(np.mean(sum), np.var(sum)))\r\n",
        "plt.show()\r\n",
        "#####Calculate Mean square error#############\r\n",
        "noofpix = d\r\n",
        "x,y = sx + 0*d, sy\r\n",
        "endx,endy = sx + (N-4)*d, sy\r\n",
        "imshow(sum[:,x+a-noofpix:endx+a-noofpix], vmin=0.0, vmax=1.0)\r\n",
        "plt.title( 'Integrated Signal mean: {}, var: {}'.format(np.mean(sum[:,x+a-noofpix:endx+a-noofpix]), np.var(sum[:,x+a-noofpix:endx+a-noofpix])))\r\n",
        "plt.show() \r\n",
        "nopa = sum[:,x+a-noofpix:endx+a-noofpix]\r\n",
        "nop = len(nopa)\r\n",
        "sourcesingle = np.zeros((1,w))\r\n",
        "sourcesingle[:,x+a-noofpix:endx+a-noofpix] = signalmean\r\n",
        "imshow(sourcesingle[:,x+a-noofpix:endx+a-noofpix], vmin=0.0, vmax=1.0)\r\n",
        "plt.title( 'Source Signal mean: {}, var: {}'.format(np.mean(sourcesingle[:,x+a-noofpix:endx+a-noofpix]), np.var(sourcesingle[:,x+a-noofpix:endx+a-noofpix])))\r\n",
        "plt.show() \r\n",
        "calcmse = np.mean((sum[:,x+a-noofpix:endx+a-noofpix] - sourcesingle[:,x+a-noofpix:endx+a-noofpix])**2)\r\n",
        "print(\"calculated mse\",calcmse)\r\n",
        "theoriticalmse = theoritcal_MSE(0.5,0,0,0,meas_dens,N,int(a/d))\r\n",
        "print(\"theoritical mse\",theoriticalmse)"
      ],
      "outputs": [],
      "metadata": {
        "id": "u9gLrEBAfR2x"
      }
    },
    {
      "cell_type": "markdown",
      "source": [
        "Below we measure when occlusion are randomly present with Density D"
      ],
      "metadata": {
        "id": "yQY5SqOYgWe6"
      }
    },
    {
      "cell_type": "code",
      "execution_count": null,
      "source": [
        "import numpy as np\r\n",
        "import cv2\r\n",
        "import matplotlib.pyplot as plt\r\n",
        "nums = (np.random.uniform(low = 0.0, high = 1.0,size = (40,40)) <= 0.5).astype(int)\r\n",
        "print(nums)\r\n",
        "print(np.mean(nums), np.count_nonzero(nums)/1000)"
      ],
      "outputs": [],
      "metadata": {
        "colab": {
          "base_uri": "https://localhost:8080/"
        },
        "id": "h43gB9N2s4it",
        "outputId": "f408954d-1577-4709-fcf0-5c955c9fc6d7"
      }
    },
    {
      "cell_type": "code",
      "execution_count": null,
      "source": [
        "max_no_integrated_images = 201\r\n",
        "occl_density = 0.5\r\n",
        "occl_size = 5\r\n",
        "occl_disparity = 5\r\n",
        "motion_shift = 50\r\n",
        "num_parallel_camera = 5\r\n",
        "imgSize = (2048,2048)\r\n",
        "integral_image = np.zeros(imgSize)\r\n",
        "mixType = 'replace'\r\n",
        "signalType = 'binarymotion'\r\n",
        "signalMean = 0.0\r\n",
        "signalSigma = 0\r\n",
        "signalsize = (400,400)\r\n",
        "noiseType = 'binary'\r\n",
        "noiseSigma = 0\r\n",
        "noiseMean = 1\r\n",
        "N = 10\r\n",
        "if signalType == 'binarymotion':\r\n",
        "  signal = np.ones(imgSize) # create signal filled with ones and create a signal region in the image\r\n",
        "  signal[int(np.floor(imgSize[0]/2-signalsize[0]/2)):int(np.ceil(imgSize[0]/2+signalsize[0]/2)),int(np.floor((signalsize[1]+1)-signalsize[1]/2)):int(np.ceil((signalsize[1]+1)+signalsize[1]/2))] = signalMean\r\n",
        "imshow(signal, vmin=0.0, vmax=1.0)\r\n",
        "plt.show()\r\n",
        "## To Check Moving  Signal\r\n",
        "#for i in range(1,max_no_integrated_images):\r\n",
        "#  rotsignal = np.roll(signal, i*motion_shift, axis=1)\r\n",
        "#  imshow(rotsignal, vmin=0.0, vmax=1.0)\r\n",
        "#  plt.show()\r\n",
        "mse = []\r\n",
        "theo_mse = []\r\n",
        "singleimage_stack = []\r\n",
        "noiseImgSize = (int(np.ceil( imgSize[0]/occl_size + (max_no_integrated_images*occl_disparity))),int(np.ceil( imgSize[1]/occl_size + max_no_integrated_images*occl_disparity)))\r\n",
        "print(noiseImgSize)\r\n",
        "#create uniformly distributed random image filled with ones\r\n",
        "uniform_rand_img = (np.random.uniform(low = 0.0, high = 1.0,size = noiseImgSize) <= occl_density).astype(int) * noiseMean\r\n",
        "#resize the image to create occluders of size occl_size\r\n",
        "shiftImg = cv2.resize(src = uniform_rand_img, dsize = (noiseImgSize[0]*occl_size,noiseImgSize[1]*occl_size), interpolation = cv2.INTER_NEAREST)\r\n",
        "#To check if occluders are binary with noise mean\r\n",
        "nonzerosimg = shiftImg[np.nonzero(shiftImg)]\r\n",
        "print('min: {}, max: {}'.format(min(nonzerosimg), max(nonzerosimg)))\r\n",
        "#imshow(shiftImg, vmin=0.0, vmax=1.0)\r\n",
        "#plt.title( 'mean: {}, var: {}'.format(np.mean(shiftImg), np.var(shiftImg)))\r\n",
        "#plt.show()\r\n",
        "summedimage = np.zeros(imgSize)\r\n",
        "numberofmotionshift = 1\r\n",
        "for i in range(1,max_no_integrated_images):\r\n",
        "  pixShift = i * occl_disparity\r\n",
        "  tmp = np.zeros(imgSize)\r\n",
        "  #Take a shifted portion of the noise image\r\n",
        "  tmp = shiftImg[0:imgSize[0],pixShift+0:pixShift+imgSize[1]]\r\n",
        "  print('i',i)\r\n",
        "  if (i-1) % num_parallel_camera == 0:\r\n",
        "    print('shifted signal')\r\n",
        "    #shift the signal to show the motion\r\n",
        "    signal = np.roll(signal, motion_shift, axis=1)\r\n",
        "    numberofmotionshift = numberofmotionshift + 1\r\n",
        "    #replace where noise is zero\r\n",
        "  combimg = tmp.copy()\r\n",
        "  combimg[tmp == 0] = signal[tmp == 0]\r\n",
        "  \r\n",
        "  #combimg = tmp + signal\r\n",
        "  #combimg[combimg>=noiseMean] = noiseMean\r\n",
        "  #imshow(combimg, vmin=0.0, vmax=1.0)\r\n",
        "  #plt.show()\r\n",
        "  #imshow(signal, vmin=0.0, vmax=1.0)\r\n",
        "  #plt.show()\r\n",
        "  #add to the sum image\r\n",
        "  summedimage = summedimage + combimg\r\n",
        "  # divide by i to get the mean integral image\r\n",
        "  integral_image = summedimage / i\r\n",
        "  if i % num_parallel_camera == 0:\r\n",
        "    #calculate start and end pos of area for which mse is calulated ---\r\n",
        "    # For N < A we take image regions where N signal images are integrated\r\n",
        "    # For N > A we take image regions where A signal images are integrated\r\n",
        "    startpos = np.floor((signalsize[1]+1)-signalsize[1]/2) + (min(numberofmotionshift, np.ceil(signalsize[1]/motion_shift))) * motion_shift\r\n",
        "    endpos =  np.floor((signalsize[1]+1)+signalsize[1]/2) + (max(numberofmotionshift-np.ceil(signalsize[1]/motion_shift),1)) * motion_shift\r\n",
        "    # Copy the selected region from the integral image\r\n",
        "    projimg = integral_image[int(np.floor(imgSize[0]/2-signalsize[0]/2)):int(np.ceil(imgSize[0]/2+signalsize[0]/2)),int(startpos):int(endpos)]\r\n",
        "    # create a binary signal image of same region\r\n",
        "    sigimg = np.ones(projimg.shape)*signalMean\r\n",
        "    print('Startpos',startpos,'endpse',endpos)\r\n",
        "    imshow(integral_image, vmin=0.0, vmax=1.0)\r\n",
        "    plt.show()\r\n",
        "    imshow(projimg, vmin=0.0, vmax=1.0)\r\n",
        "    plt.show()\r\n",
        "    imshow(sigimg, vmin=0.0, vmax=1.0)\r\n",
        "    plt.show()\r\n",
        "    # calculate mse\r\n",
        "    squared_subtractimg = np.square(np.subtract(projimg,sigimg))\r\n",
        "    avg = np.mean(squared_subtractimg)\r\n",
        "    # For N < A we take A = N\r\n",
        "    # For N >= A we take A\r\n",
        "    noofimageoverlap = min((numberofmotionshift-1), np.ceil(signalsize[1]/motion_shift))\r\n",
        "    # Calculate  theoritical mse\r\n",
        "    theoriticalmse = theoritcal_MSE_Parallel_Sequential(signalMean,signalSigma,noiseMean,noiseSigma,occl_density,i,noofimageoverlap,num_parallel_camera)\r\n",
        "    print('measured mse: {}, theoritical mse: {}'.format(avg, theoriticalmse))\r\n",
        "    mse.append(avg)\r\n",
        "    theo_mse.append(theoriticalmse)\r\n",
        "plt.plot(range(1,numberofmotionshift), mse, 'g--', linewidth=2, markersize=12 , label = 'measured mse')\r\n",
        "plt.plot(range(1,numberofmotionshift), theo_mse, 'r', linewidth=2, markersize=12 , label = 'theoritical mse')\r\n",
        "plt.legend()\r\n",
        "plt.show()  "
      ],
      "outputs": [],
      "metadata": {}
    }
  ]
}